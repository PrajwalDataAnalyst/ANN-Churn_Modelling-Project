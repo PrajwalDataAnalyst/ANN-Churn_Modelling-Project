{
 "cells": [
  {
   "cell_type": "code",
   "execution_count": 2,
   "id": "17d33fd2",
   "metadata": {},
   "outputs": [],
   "source": [
    "import numpy as np\n",
    "import pandas as pd\n",
    "import pickle\n",
    "from tensorflow.keras.models import load_model\n"
   ]
  },
  {
   "cell_type": "code",
   "execution_count": 3,
   "id": "239e0d1b",
   "metadata": {},
   "outputs": [
    {
     "name": "stderr",
     "output_type": "stream",
     "text": [
      "WARNING:absl:Compiled the loaded model, but the compiled metrics have yet to be built. `model.compile_metrics` will be empty until you train or evaluate the model.\n"
     ]
    }
   ],
   "source": [
    "# Load model and preprocessing tools\n",
    "model = load_model(\"artifacts/model.h5\")\n",
    "\n",
    "with open(\"artifacts/label_encoder_gender.pkl\", \"rb\") as f:\n",
    "    le_gender = pickle.load(f)\n",
    "\n",
    "with open(\"artifacts/onehot_encoder_geo.pkl\", \"rb\") as f:\n",
    "    ohe_geo = pickle.load(f)\n",
    "\n",
    "with open(\"artifacts/scaler.pkl\", \"rb\") as f:\n",
    "    scaler = pickle.load(f)\n"
   ]
  },
  {
   "cell_type": "code",
   "execution_count": 4,
   "id": "8243f1b0",
   "metadata": {},
   "outputs": [],
   "source": [
    "def preprocess_input(data, le_gender, ohe_geo, scaler):\n",
    "    \"\"\"\n",
    "    Preprocess a single input dictionary for prediction.\n",
    "    \"\"\"\n",
    "    # Encode Gender\n",
    "    data['Gender'] = le_gender.transform([data['Gender']])[0]\n",
    "\n",
    "    # One-hot encode Geography\n",
    "    geo_encoded = ohe_geo.transform([[data['Geography']]]).toarray()[0]\n",
    "    geo_df = pd.DataFrame([geo_encoded], columns=ohe_geo.categories_[0])\n",
    "\n",
    "    # Create DataFrame from the input\n",
    "    df_input = pd.DataFrame([data])\n",
    "    df_input = df_input.drop(['Geography'], axis=1)\n",
    "    df_input = pd.concat([df_input, geo_df], axis=1)\n",
    "\n",
    "    # Ensure column order matches training\n",
    "    feature_order = ['CreditScore', 'Gender', 'Age', 'Tenure', 'Balance',\n",
    "                     'NumOfProducts', 'HasCrCard', 'IsActiveMember',\n",
    "                     'EstimatedSalary'] + list(ohe_geo.categories_[0])\n",
    "    \n",
    "    df_input = df_input[feature_order]\n",
    "\n",
    "    # Scale\n",
    "    scaled_input = scaler.transform(df_input)\n",
    "    return scaled_input\n"
   ]
  },
  {
   "cell_type": "code",
   "execution_count": 6,
   "id": "65c2554f",
   "metadata": {},
   "outputs": [],
   "source": [
    "new_data = {\n",
    "    \"CreditScore\": 600,\n",
    "    \"Geography\": \"France\",\n",
    "    \"Gender\": \"Female\",\n",
    "    \"Age\": 45,\n",
    "    \"Tenure\": 3,\n",
    "    \"Balance\": 60000,\n",
    "    \"NumOfProducts\": 2,\n",
    "    \"HasCrCard\": 1,\n",
    "    \"IsActiveMember\": 1,\n",
    "    \"EstimatedSalary\": 50000\n",
    "}\n"
   ]
  },
  {
   "cell_type": "code",
   "execution_count": 7,
   "id": "bd92afe7",
   "metadata": {},
   "outputs": [
    {
     "name": "stdout",
     "output_type": "stream",
     "text": [
      "\u001b[1m1/1\u001b[0m \u001b[32m━━━━━━━━━━━━━━━━━━━━\u001b[0m\u001b[37m\u001b[0m \u001b[1m0s\u001b[0m 55ms/step\n",
      "Prediction (probability of churn): 0.0604\n"
     ]
    },
    {
     "name": "stderr",
     "output_type": "stream",
     "text": [
      "c:\\Users\\Prajwal B\\miniconda3\\envs\\tf_env\\lib\\site-packages\\sklearn\\utils\\validation.py:2739: UserWarning: X does not have valid feature names, but OneHotEncoder was fitted with feature names\n",
      "  warnings.warn(\n"
     ]
    }
   ],
   "source": [
    "import numpy as np\n",
    "import pandas as pd\n",
    "\n",
    "# Step 1: Label encode Gender\n",
    "gender_encoded = le_gender.transform([new_data['Gender']])[0]  # single value\n",
    "\n",
    "# Step 2: One-hot encode Geography\n",
    "geo_encoded = ohe_geo.transform([[new_data['Geography']]])  # returns ndarray, no .toarray() needed\n",
    "\n",
    "# Step 3: Create dataframe for easy concatenation\n",
    "geo_df = pd.DataFrame(geo_encoded, columns=ohe_geo.categories_[0])\n",
    "\n",
    "# Step 4: Build final feature dataframe for scaling and prediction\n",
    "input_df = pd.DataFrame([{\n",
    "    \"CreditScore\": new_data[\"CreditScore\"],\n",
    "    \"Gender\": gender_encoded,\n",
    "    \"Age\": new_data[\"Age\"],\n",
    "    \"Tenure\": new_data[\"Tenure\"],\n",
    "    \"Balance\": new_data[\"Balance\"],\n",
    "    \"NumOfProducts\": new_data[\"NumOfProducts\"],\n",
    "    \"HasCrCard\": new_data[\"HasCrCard\"],\n",
    "    \"IsActiveMember\": new_data[\"IsActiveMember\"],\n",
    "    \"EstimatedSalary\": new_data[\"EstimatedSalary\"],\n",
    "}])\n",
    "\n",
    "input_df = pd.concat([input_df, geo_df], axis=1)\n",
    "\n",
    "# Step 5: Scale input features\n",
    "input_scaled = scaler.transform(input_df)\n",
    "\n",
    "# Step 6: Predict using your loaded model\n",
    "prediction = model.predict(input_scaled)\n",
    "\n",
    "print(f\"Prediction (probability of churn): {prediction[0][0]:.4f}\")\n"
   ]
  },
  {
   "cell_type": "code",
   "execution_count": null,
   "id": "7c6179f5",
   "metadata": {},
   "outputs": [],
   "source": []
  }
 ],
 "metadata": {
  "kernelspec": {
   "display_name": "tf_env",
   "language": "python",
   "name": "python3"
  },
  "language_info": {
   "codemirror_mode": {
    "name": "ipython",
    "version": 3
   },
   "file_extension": ".py",
   "mimetype": "text/x-python",
   "name": "python",
   "nbconvert_exporter": "python",
   "pygments_lexer": "ipython3",
   "version": "3.10.16"
  }
 },
 "nbformat": 4,
 "nbformat_minor": 5
}
